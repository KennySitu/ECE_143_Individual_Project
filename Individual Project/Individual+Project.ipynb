{
 "cells": [
  {
   "cell_type": "markdown",
   "metadata": {},
   "source": [
    "Note: All links are links to pictures/visualizations, so please click on them!"
   ]
  },
  {
   "cell_type": "code",
   "execution_count": null,
   "metadata": {
    "collapsed": true
   },
   "outputs": [],
   "source": [
    "import numpy as np\n",
    "import matplotlib\n",
    "import matplotlib.pyplot as plot\n",
    "from random import *\n",
    "RowWindowSize = 20\n",
    "ColWindowSize = 20\n",
    "n = 10\n",
    "%matplotlib notebook"
   ]
  },
  {
   "cell_type": "markdown",
   "metadata": {},
   "source": [
    "The Cell above contains all the libraries and global constants needed to for my project to run. \n",
    "\n",
    "n denotes the desired number of rectangles that the user would like to generate if they would like to generate only a set limit of rectangles. \n",
    "\n",
    "RowWindowSize and ColWindowSize are global variables used to determine the grid size of the grid created in the main function. Modify them if you would like to run the main function with a specific grid size in mind."
   ]
  },
  {
   "cell_type": "code",
   "execution_count": null,
   "metadata": {
    "collapsed": true
   },
   "outputs": [],
   "source": [
    "def update_Grid(aMaxRectangle, aGrid):\n",
    "    '''\n",
    "    Purpose is to update the grid with 0s if the passed in maximum subrectangle is a valid subrectangle. i.e. sometimes\n",
    "    I pass in a 1x1 subrectangle that lies on another rectangle, so the isPlotted will remain false.\n",
    "    '''\n",
    "    isPlotted = False\n",
    "    for theRow in range(aMaxRectangle[0][0], aMaxRectangle[0][1] + 1):\n",
    "        for theCol in range(aMaxRectangle[1][0], aMaxRectangle[1][1] + 1):\n",
    "            if aGrid[theRow][theCol] == 1:\n",
    "                aGrid[theRow][theCol] = 0\n",
    "                isPlotted = True\n",
    "                \n",
    "    return isPlotted"
   ]
  },
  {
   "cell_type": "markdown",
   "metadata": {},
   "source": [
    "The update_Grid function accepts two parameters: aMaxRectangle, which is the maximum subrectangle passed in from the main or run_Heat_Map function, and aGrid, which is a Grid passed in from one of the two previously mentioned functions.\n",
    "\n",
    "It's duty includes checking if aMaxRectangle is a valid rectangle, and the only non-valid subrectangle would be a 1x1 rectangle that is a result of the max_Rectangle_Area returning the default initialized return subrectangle, and if that were the case, the grid would contain a 0 in that instance, so the isPlotted boolean would remain false.\n",
    "\n",
    "Lastly, it returns the boolean to indicate if the subrectangle passed in is valid or not to the caller of this function."
   ]
  },
  {
   "cell_type": "code",
   "execution_count": null,
   "metadata": {
    "collapsed": true
   },
   "outputs": [],
   "source": [
    "def max_Rectangle_Area(aPossibleRectanglesList, aGrid):\n",
    "    '''\n",
    "    Purpose is to iterate through aPossibleRectanglesList to check if the rectangle is valid, and if it is, then\n",
    "    the area of it is calculated, lastly, if it is greater than the previous max area, we store it in the return\n",
    "    rectangle area \n",
    "    '''\n",
    "    \n",
    "    theMaxArea = 0\n",
    "    theReturnRectangle = [[aPossibleRectanglesList[0][0],aPossibleRectanglesList[0][0]],[aPossibleRectanglesList[0][2], aPossibleRectanglesList[0][2]]]\n",
    "    for theList in aPossibleRectanglesList:\n",
    "        containsZero = np.any(aGrid[theList[0]:(theList[1] + 1), theList[2]:(theList[3] + 1)] == 0)\n",
    "        if containsZero == False:\n",
    "            theTempMaxArea = (int(theList[1]) + 1 - int(theList[0])) * (int(theList[3]) + 1 - int(theList[2])) \n",
    "            if theTempMaxArea > theMaxArea:\n",
    "                theMaxArea = theTempMaxArea\n",
    "                theReturnRectangle[0][0] = theList[0]\n",
    "                theReturnRectangle[0][1] = theList[1]\n",
    "                theReturnRectangle[1][0] = theList[2]\n",
    "                theReturnRectangle[1][1] = theList[3]\n",
    "    \n",
    "    return theReturnRectangle"
   ]
  },
  {
   "cell_type": "markdown",
   "metadata": {},
   "source": [
    "The max_Rectangle_Area accepts two parameters: aPossibleRectanglesList, which is a list that contains all possible subrectangles of the generated rectangle and each element in the list is another list that is in this format: [starting row coordinate, ending row coordinate, starting column coordinate, ending column coordinate].\n",
    "\n",
    "The function first initializes a default max area of 0 a default return rectangle as the first subrectangle's starting row coordinate for both the starting and ending row coordinate and does the same for the starting and ending column coordinates. It then determines if each individual subrectangle is valid by checking if there is a 0 within, and if there is a 0 within the subrectangle, it means another rectangle plotted is occupying the area, so it is not valid. If it is valid, the area of that subrectangle is calculated, and if it is greater than the previous max area, the new max area is set to this subrectangle's area and the starting and ending row and column coordinates of that subrectangle is stored in theReturnRectangle. See if theTempMaxArea > theMaxArea: conditional for format.\n",
    "\n",
    "Lastly, it returns theReturnRectangle, which is in the format of [[starting row coordinate, ending row coordinate], [starting column coordinate, ending column coordinate]] to the caller."
   ]
  },
  {
   "cell_type": "code",
   "execution_count": null,
   "metadata": {
    "collapsed": true
   },
   "outputs": [],
   "source": [
    "def max_Rectangle(aRectangle, aGrid):\n",
    "    '''\n",
    "    aRectangle is a list that contains two sublist, the first being the starting and ending Row coordinate and the \n",
    "    second being the Col coordinate ordered the same way\n",
    "    \n",
    "    Purpose is to generate a list of all possible rectangles and pass it to max_Rectangle_Area, which returns a list of\n",
    "    the Maximum Area Rectangle in the same format as the input aRectangle\n",
    "    \n",
    "    thePossibleRectangle is a list that contains [startRowCoord, endRowCoord, startColCoord, endColCoord]\n",
    "    '''\n",
    "    assert type(aRectangle) is list\n",
    "    \n",
    "    thePossibleRectanglesList = []\n",
    "    for theRow in range(aRectangle[0][0], aRectangle[0][1] + 1):\n",
    "        for theCol in range(aRectangle[1][0], aRectangle[1][1] + 1):\n",
    "            for theSecondRow in range(theRow, aRectangle[0][1] + 1):\n",
    "                for theSecondCol in range(theCol, aRectangle[1][1] + 1):\n",
    "                    thePossibleRectanglesList.append([theRow, theSecondRow, theCol, theSecondCol])\n",
    "                    \n",
    "    theReturnRectangle = max_Rectangle_Area(thePossibleRectanglesList, aGrid)\n",
    "    return theReturnRectangle"
   ]
  },
  {
   "cell_type": "markdown",
   "metadata": {},
   "source": [
    "The max_Rectangle function accepts two parameters: aRectangle, which is the generated rectangle, and aGrid, which is the grid that's needed when this function calls the max_Rectangle_Area function.\n",
    "\n",
    "This function initializes thePossibleRectanglesList as an empty list. It then starts at the leftmost point of the rectangle and generates all possible subrectangles using the third and fourth nested loop and appends them to the thePossibleRectanglesList. It then calls the max_Rectangle_Area by passing it thePossibleRectanglesList and aGrid that was passed in from the caller of this function.\n",
    "\n",
    "Lastly, it returns theReturnRectangle, which is in the format of [[starting row coordinate, ending row coordinate], [starting column coordinate, ending column coordinate]] to the caller."
   ]
  },
  {
   "cell_type": "code",
   "execution_count": null,
   "metadata": {
    "collapsed": true
   },
   "outputs": [],
   "source": [
    "def rectangle_Generator(aRowWindowSize, aColWindowSize):\n",
    "    '''\n",
    "    theGeneratedRectangle contains two list, the first one is the row coordinate ranging from smaller value to higher value\n",
    "    while the second one coantains the col coordinates organized in the same manner as the first list\n",
    "    '''\n",
    "    assert aRowWindowSize > 0 and aColWindowSize > 0, \"Invalid Grid size! Please re-enter them!\"\n",
    "    assert type(aRowWindowSize) is int and type(aColWindowSize) is int, \"Grid size must be integers!\"\n",
    "    \n",
    "    theGeneratedRectangle = [[randint(0, aRowWindowSize - 1), randint(0, aRowWindowSize - 1)],[randint(0, aColWindowSize - 1), randint(0, aColWindowSize - 1)]]\n",
    "    if theGeneratedRectangle[0][0] > theGeneratedRectangle[0][1]:\n",
    "        theTemp = theGeneratedRectangle[0][0]\n",
    "        theGeneratedRectangle[0][0] = theGeneratedRectangle[0][1]\n",
    "        theGeneratedRectangle[0][1] = theTemp\n",
    "    \n",
    "    if theGeneratedRectangle[1][0] > theGeneratedRectangle[1][1]:\n",
    "        theTemp = theGeneratedRectangle[1][0]\n",
    "        theGeneratedRectangle[1][0] = theGeneratedRectangle[1][1]\n",
    "        theGeneratedRectangle[1][1] = theTemp\n",
    "        \n",
    "    return theGeneratedRectangle"
   ]
  },
  {
   "cell_type": "markdown",
   "metadata": {},
   "source": [
    "The rectangle_Generator Function acccepts a row and a column size from the caller.\n",
    "\n",
    "It then generates 4 random int for theGeneratedRectangle, two for row coordinates and two for column coordinates. Afterwards, it checks if the coordinates are listed from greatest to smallest, and if it isn't it will rearrange them.\n",
    "\n",
    "Lastly, it will return theGeneratedRectangle with this format [[starting row coordinate, ending row coordinate], [starting column coordinate, ending column coordinate]]."
   ]
  },
  {
   "cell_type": "code",
   "execution_count": null,
   "metadata": {
    "collapsed": true
   },
   "outputs": [],
   "source": [
    "def plot_Rectangles(aPlottedRectangleList, aGrid):\n",
    "    '''\n",
    "    Used to set the coordinates of the Grid to which number rectangle is plotted and then it will plot the grid given\n",
    "    '''\n",
    "    assert type(aPlottedRectangleList) is list\n",
    "    \n",
    "    theCount = 1\n",
    "    for theRectangle in aPlottedRectangleList:\n",
    "        theCount += 1\n",
    "        aGrid[theRectangle[0][0]:(theRectangle[0][1] + 1), theRectangle[1][0]:(theRectangle[1][1] + 1)] = theCount\n",
    "        \n",
    "    fig, ax = plot.subplots()\n",
    "    im = ax.imshow(aGrid)\n",
    "    aGrid = np.subtract(aGrid, 1)\n",
    "    for i in range(len(aGrid)):\n",
    "        for j in range(len(aGrid[0])):\n",
    "            text = ax.text(j, i, aGrid[i, j],\n",
    "                       ha=\"center\", va=\"center\", color=\"w\")\n",
    "            \n",
    "    ax.set_title(\"The Rectangles Plotted in the Grid\")\n",
    "    fig.tight_layout()\n",
    "    plot.show()"
   ]
  },
  {
   "cell_type": "markdown",
   "metadata": {},
   "source": [
    "The Function accepts aPlottedRectangleList, which is a list of all the rectangles to be plotted, and aGrid, which is the Grid we will use to plot.\n",
    "\n",
    "The Function first initializes the count to be 1 since aGrid denotes free space as 1. It then increments theCount every time before the rectangle coordinates of the grid is assigned to theCount value. \n",
    "\n",
    "Lastly, it plots the Grid with the number denoting which rectangle it is and 0 denotes the area is free."
   ]
  },
  {
   "cell_type": "code",
   "execution_count": null,
   "metadata": {
    "collapsed": true
   },
   "outputs": [],
   "source": [
    "def plot_Heat_Map(aHeatMap):\n",
    "    '''\n",
    "    Purpose is to plot the heap map that is passed into this function and label the indeces and the title of the grid\n",
    "    '''\n",
    "    \n",
    "    fig, ax = plot.subplots()\n",
    "    im = ax.imshow(aHeatMap)\n",
    "\n",
    "    # Shows all ticks and label them with the respective list entries\n",
    "    ax.set_xticks(range(20))\n",
    "    ax.set_yticks(range(20))\n",
    "    ax.set_xticklabels(range(1,21))\n",
    "    ax.set_yticklabels(range(1,21))\n",
    "\n",
    "    #Rotates the tick labels and set their alignment.\n",
    "    plot.setp(ax.get_xticklabels(), rotation=45, ha=\"right\",\n",
    "         rotation_mode=\"anchor\")\n",
    "\n",
    "    #Loops over data dimensions and create text annotations\n",
    "    for i in range(20):\n",
    "        for j in range(20):\n",
    "            text = ax.text(j, i, aHeatMap[i, j],\n",
    "                       ha=\"center\", va=\"center\", color=\"w\")\n",
    "\n",
    "    ax.set_title(\"Number of Rectangles needed to fill a certain area\")\n",
    "    fig.tight_layout()\n",
    "    plot.show()"
   ]
  },
  {
   "cell_type": "markdown",
   "metadata": {},
   "source": [
    "The plot_Heat_Map Function above initializes the Row and Col indeces and the title of the chart while filling in each index with the content of the heatmap. Lastly, it displays all the data under the run_Heat_Map Function."
   ]
  },
  {
   "cell_type": "code",
   "execution_count": null,
   "metadata": {
    "collapsed": true,
    "scrolled": false
   },
   "outputs": [],
   "source": [
    "def run_Heat_Map():\n",
    "    theHeatMap = np.zeros((20, 20), dtype=int)\n",
    "    for theRowWindowSize in range(1,21):\n",
    "        for theColWindowSize in range(1,21):\n",
    "            isPlotted = False\n",
    "            Grid = np.ones((theRowWindowSize, theColWindowSize), dtype=int)\n",
    "            theCount = 0\n",
    "            while np.any(Grid[:, :] == 1):\n",
    "                theGeneratedRectangle = rectangle_Generator(theRowWindowSize, theColWindowSize)\n",
    "                theMaxRectangle = max_Rectangle(theGeneratedRectangle, Grid)\n",
    "                isPlotted = update_Grid(theMaxRectangle, Grid)     \n",
    "                if isPlotted == True:\n",
    "                    theCount += 1\n",
    "                \n",
    "            theHeatMap[theRowWindowSize - 1][theColWindowSize - 1] += theCount\n",
    "    \n",
    "    plot_Heat_Map(theHeatMap)\n",
    "    \n",
    "#run_Heat_Map()"
   ]
  },
  {
   "cell_type": "markdown",
   "metadata": {},
   "source": [
    "The run_Heat_Map Function loops through all combinations of rows and cols sizes from 1 to 20 each respectively and contains a count that increments only if the maximum subrectangle of the generated rectangle could be plotted. It then stores that count in theHeatMap[theCurrentRowSize - 1][theCurrentColSize - 1] because the matrix index runs from 0-19 for both rows and cols respectively instead of 1-20. \n",
    "\n",
    "If you would like to run this function. Please uncomment the last line to run it! Warning, the above code will take a long time to execute! ~12 minutes. This Method will solve the Last bulletpoint, which entails on average, how many communcation towers are needed before full coverag\n",
    "\n",
    "After generated the Heat Map multiple times and averaging them out, I've realized that quadrupling the area of the original matrix will require double the number of rectangles needed to cover the new matrix compared to the original matrix. Beause my code only runs each area of a rectangle once, the heapmap result might slightly deviate from the previous conjecture, but if you run this function multiple times and average all the heap maps, the resulting heap map will have data similar to the previous conjecture.\n",
    "\n",
    "ex) [What the HeatMap should look like](HeapMap.png)"
   ]
  },
  {
   "cell_type": "code",
   "execution_count": null,
   "metadata": {},
   "outputs": [],
   "source": [
    "def main(aCount = 0):\n",
    "    '''\n",
    "    Purpose is to call appropriate functions to accomplish the task of generating the rectangles, checking for the\n",
    "    maximum sub rectangle given the generated rectangle, updating the grid to denote the space is no longer available,\n",
    "    appending only the valid rectangles to thePl\n",
    "    '''\n",
    "    assert aCount >= 0, \"negative number of rectangles can not be generated\"\n",
    "    assert type(aCount) is int\n",
    "    assert RowWindowSize > 0 and ColWindowSize > 0, \"Invalid Grid size! Please re-enter them!\"\n",
    "    assert type(RowWindowSize) is int and type(ColWindowSize) is int, \"Grid size must be integers!\"\n",
    "    \n",
    "    isPlotted = False\n",
    "    Grid = np.ones((RowWindowSize, ColWindowSize), dtype=int)\n",
    "    thePlottedRectangleList = []\n",
    "    theCount = 0\n",
    "    if aCount == 0:\n",
    "        while np.any(Grid[:, :] == 1):\n",
    "            theGeneratedRectangle = rectangle_Generator(RowWindowSize, ColWindowSize)\n",
    "            theMaxRectangle = max_Rectangle(theGeneratedRectangle, Grid)\n",
    "            isPlotted = update_Grid(theMaxRectangle, Grid)     \n",
    "            if isPlotted == True:\n",
    "                theCount += 1\n",
    "                thePlottedRectangleList.append(theMaxRectangle)\n",
    "                \n",
    "        plot_Rectangles(thePlottedRectangleList, Grid)        \n",
    "        print \"%d rectangles needed to cover this %d X %d grid\" %(theCount, RowWindowSize, ColWindowSize)\n",
    "                \n",
    "    else:\n",
    "        while np.any(Grid[:, :] == 1) and theCount != aCount:\n",
    "            theGeneratedRectangle = rectangle_Generator(RowWindowSize, ColWindowSize)\n",
    "            theMaxRectangle = max_Rectangle(theGeneratedRectangle, Grid)\n",
    "            isPlotted = update_Grid(theMaxRectangle, Grid)     \n",
    "            if isPlotted == True:\n",
    "                theCount += 1\n",
    "                thePlottedRectangleList.append(theMaxRectangle)\n",
    "        \n",
    "        theNumberofZeros = np.count_nonzero(Grid == 0)\n",
    "        thePercentCoverage = (float(theNumberofZeros) / (RowWindowSize * ColWindowSize)) * 100                   \n",
    "        plot_Rectangles(thePlottedRectangleList, Grid)\n",
    "        print \"Number of Rectangles actually plotted is %d\" %theCount\n",
    "        print \"The total Coverage is %f percent of the total grid\" %thePercentCoverage \n",
    "    \n",
    "#main()\n",
    "main(n)"
   ]
  },
  {
   "cell_type": "markdown",
   "metadata": {
    "collapsed": true
   },
   "source": [
    "The Main Function is used to run either a maximum number of rectangles generated, which is passed in as a parameter, or used to run until the grid is completely filled, which is executed when no parameter is passed in because the default parameter is 0. The Main Function has a conditional that checks if aCount is the default parameter, which is 0 rectangles, and if it is, it will run until the grid is completely covered, else, it will generate the specified amount of rectangles in the else clause.\n",
    "\n",
    "If you would like to run until the grid is full, please uncomment the penultimate line!\n",
    "If you would like to generate only a set number of rectangles, please uncommment the last line and change n in the global variables cell to the number of rectangles you would like to generate! This method will solve the first and second bullet point of given an n number of communication towers, what is the resulting coverage? and how much percentwise coverage of the area given the communication towers?\n",
    "\n",
    "ex) [What the Whole Coverage Should Look Like](20x20WholeCoverage.png)\n",
    "\n",
    "ex) [What the Limited RectangleCoverage Should Look Like](20X20LimitedRectangles.png)"
   ]
  },
  {
   "cell_type": "markdown",
   "metadata": {},
   "source": [
    "Analysis:\n",
    "The Problem we have is to cover the entire grid with the minimum amount of communication towers and ensure that none of the communication towres have overlapping coverage. We attempt to solve this by generating random rectangles that are bounded within the grid and trimming them so that they do not overlap with each other. We have a count of the number of rectangles that are successfully plotted to track how many communication towers are placed.\n",
    "    \n",
    "The tradeoff of this method is that if a tower is offline, another tower won't be able to provide coverage because none of the towers have any overlapping coverage. In addition, we throw away all randomly generated rectangles that completely overlap with previous rectangles, and that causes the runtime to e longer since we are randomly generating rectangles. Also, we could of dynamically tracked the placed rectangles so that we always generate unique rectangles, which would save us run-time but it will require a more complex code.\n",
    "    \n",
    "One of our limitations of our simulation is different shapes of communication tower coverage can not be modeled using this simulation. For example, our simulation would not be able to model typical communication towers that have circular coverage could not be modeled. ex) [What the Limited RectangleCoverage Should Look Like](20X20LimitedRectangles.png)\n",
    "If you click the link above, you can see that only rectangles are generated, so any other coverage shape can't be covered. Another limitation we have is for big grid sizes. Since we used combinatorics to search for all possible rectangles within a generated rectangle, we have a (N)^4 runtime, which would be very inefficient for very large grid sizes. Lastly, our final limitation is that for our heatmap, it is only generated by running through all rectangle sizes ranging from 1x1 to 20x20 once because our run-time is very slow. Therefore, it would not have the most accurate on average, how many communication towers are necessary to cover the entire grid of the given size.\n",
    "\n",
    "After generated the Heat Map multiple times and averaging them out, I've realized that quadrupling the area of the original matrix will require double the number of rectangles needed to cover the new matrix compared to the original matrix. Beause my code only runs each area of a rectangle once, the heapmap result might slightly deviate from the previous conjecture, but if you run this function multiple times and average all the heap maps, the resulting heap map will have data similar to the previous conjecture. In addition, I realize that this model is a great starting point to run this simulation multiple times until you find the least amount of rectangles needed to cover the entire area. Lastly, if we were given fixed converage size of the communication towers, we could modify the code to produce one random coordinate and two directions: one either up or down and the other either left or right to simulate this. To conclude, although this simulation is not the most efficient, we could use this model as a building point to solve an Ad-Hoc Communication Network issue and optimize the code until the best solution is found."
   ]
  }
 ],
 "metadata": {
  "kernelspec": {
   "display_name": "Python 2",
   "language": "python",
   "name": "python2"
  },
  "language_info": {
   "codemirror_mode": {
    "name": "ipython",
    "version": 2
   },
   "file_extension": ".py",
   "mimetype": "text/x-python",
   "name": "python",
   "nbconvert_exporter": "python",
   "pygments_lexer": "ipython2",
   "version": "2.7.13"
  }
 },
 "nbformat": 4,
 "nbformat_minor": 2
}
